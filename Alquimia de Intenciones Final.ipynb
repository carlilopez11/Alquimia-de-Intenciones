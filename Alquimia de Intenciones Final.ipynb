{
 "cells": [
  {
   "cell_type": "markdown",
   "id": "fb3d2766-4536-4bf6-ad72-1dc5d6cd6cf0",
   "metadata": {},
   "source": [
    "# Alquimia de Intenciones – Fast Prompting con IA\n",
    "\n",
    "*Alquimia de Intenciones* es una propuesta que fusiona inteligencia artificial generativa con prácticas espirituales y de bienestar. Su objetivo es asistir a usuarios —tanto emprendedores como consumidores— en la creación de combinaciones personalizadas de sahumerios, infusiones y velas de soja, según una intención emocional o energética (como relajación, limpieza, protección o amor propio).\n",
    "\n",
    "A través de la integración con la API de OpenAI (`gpt-3.5-turbo`) y el uso de generadores de imagen como DALL·E, el proyecto permite generar automáticamente combinaciones de productos acompañadas de una explicación y una visualización representativa. La solución se implementa en un Jupyter Notebook interactivo que sirve como prueba de concepto (POC) del uso de IA para rituales energéticos personalizados.\n",
    "\n"
   ]
  },
  {
   "cell_type": "code",
   "execution_count": 2,
   "id": "7e79d9f3-dbb9-44fc-af1a-190c391a574b",
   "metadata": {},
   "outputs": [
    {
     "name": "stdout",
     "output_type": "stream",
     "text": [
      "Requirement already satisfied: openai==0.28 in c:\\users\\carlo\\anaconda3\\lib\\site-packages (0.28.0)\n",
      "Requirement already satisfied: requests>=2.20 in c:\\users\\carlo\\anaconda3\\lib\\site-packages (from openai==0.28) (2.32.3)\n",
      "Requirement already satisfied: tqdm in c:\\users\\carlo\\anaconda3\\lib\\site-packages (from openai==0.28) (4.66.5)\n",
      "Requirement already satisfied: aiohttp in c:\\users\\carlo\\anaconda3\\lib\\site-packages (from openai==0.28) (3.10.5)\n",
      "Requirement already satisfied: charset-normalizer<4,>=2 in c:\\users\\carlo\\anaconda3\\lib\\site-packages (from requests>=2.20->openai==0.28) (3.3.2)\n",
      "Requirement already satisfied: idna<4,>=2.5 in c:\\users\\carlo\\anaconda3\\lib\\site-packages (from requests>=2.20->openai==0.28) (3.7)\n",
      "Requirement already satisfied: urllib3<3,>=1.21.1 in c:\\users\\carlo\\anaconda3\\lib\\site-packages (from requests>=2.20->openai==0.28) (2.2.3)\n",
      "Requirement already satisfied: certifi>=2017.4.17 in c:\\users\\carlo\\anaconda3\\lib\\site-packages (from requests>=2.20->openai==0.28) (2024.8.30)\n",
      "Requirement already satisfied: aiohappyeyeballs>=2.3.0 in c:\\users\\carlo\\anaconda3\\lib\\site-packages (from aiohttp->openai==0.28) (2.4.0)\n",
      "Requirement already satisfied: aiosignal>=1.1.2 in c:\\users\\carlo\\anaconda3\\lib\\site-packages (from aiohttp->openai==0.28) (1.2.0)\n",
      "Requirement already satisfied: attrs>=17.3.0 in c:\\users\\carlo\\anaconda3\\lib\\site-packages (from aiohttp->openai==0.28) (23.1.0)\n",
      "Requirement already satisfied: frozenlist>=1.1.1 in c:\\users\\carlo\\anaconda3\\lib\\site-packages (from aiohttp->openai==0.28) (1.4.0)\n",
      "Requirement already satisfied: multidict<7.0,>=4.5 in c:\\users\\carlo\\anaconda3\\lib\\site-packages (from aiohttp->openai==0.28) (6.0.4)\n",
      "Requirement already satisfied: yarl<2.0,>=1.0 in c:\\users\\carlo\\anaconda3\\lib\\site-packages (from aiohttp->openai==0.28) (1.11.0)\n",
      "Requirement already satisfied: colorama in c:\\users\\carlo\\anaconda3\\lib\\site-packages (from tqdm->openai==0.28) (0.4.6)\n"
     ]
    }
   ],
   "source": [
    "!pip install openai==0.28\n"
   ]
  },
  {
   "cell_type": "code",
   "execution_count": 3,
   "id": "814f0b7c-9dac-48bd-8813-39b655cecab7",
   "metadata": {},
   "outputs": [],
   "source": [
    "import openai\n",
    "openai.api_key = \"sk-proj-EBHOdMhNjrz8OMD4clNHuC6Y6HSM8frwYxUkupFiB9Nluuzf4QYQA\""
   ]
  },
  {
   "cell_type": "code",
   "execution_count": 4,
   "id": "be35d0e5-1d6b-4b1d-a0a9-9eac13f28584",
   "metadata": {},
   "outputs": [],
   "source": [
    "# Definir intención del usuario\n",
    "intencion = \"relajación\"\n"
   ]
  },
  {
   "cell_type": "code",
   "execution_count": 5,
   "id": "3cd97ac6-e91f-4346-bd9e-1cdf60d17966",
   "metadata": {},
   "outputs": [
    {
     "name": "stdout",
     "output_type": "stream",
     "text": [
      "\n",
      "Sugerime un combo de productos naturales para relajación. \n",
      "Incluí un sahumerio, una infusión y una vela de soja. \n",
      "Explicá por qué se elige cada uno en función de la intención.\n",
      "\n"
     ]
    }
   ],
   "source": [
    "# Prompt generado con Fast Prompting\n",
    "prompt = f\"\"\"\n",
    "Sugerime un combo de productos naturales para {intencion}. \n",
    "Incluí un sahumerio, una infusión y una vela de soja. \n",
    "Explicá por qué se elige cada uno en función de la intención.\n",
    "\"\"\"\n",
    "\n",
    "print(prompt)\n"
   ]
  },
  {
   "cell_type": "code",
   "execution_count": 6,
   "id": "d2e0be22-d409-4354-9eca-f0ec3deaf38b",
   "metadata": {},
   "outputs": [
    {
     "name": "stdout",
     "output_type": "stream",
     "text": [
      "❌ Hubo un error al consultar la API de OpenAI:\n",
      "You exceeded your current quota, please check your plan and billing details. For more information on this error, read the docs: https://platform.openai.com/docs/guides/error-codes/api-errors.\n"
     ]
    }
   ],
   "source": [
    "# Generación de respuesta con la API de OpenAI\n",
    "\n",
    "try:\n",
    "    # Llamado al modelo gpt-3.5-turbo con el prompt generado\n",
    "    response = openai.ChatCompletion.create(\n",
    "        model=\"gpt-3.5-turbo\",\n",
    "        messages=[\n",
    "            {\"role\": \"system\", \"content\": \"Actuá como un experto en rituales con productos naturales.\"},\n",
    "            {\"role\": \"user\", \"content\": prompt}\n",
    "        ],\n",
    "        temperature=0.7,\n",
    "        max_tokens=500  # Limita el largo de la respuesta para controlarla\n",
    "    )\n",
    "\n",
    "    # Extraer y mostrar la respuesta del asistente\n",
    "    respuesta = response.choices[0].message[\"content\"]\n",
    "    print(\"🔮 Respuesta generada por la IA:\\n\")\n",
    "    print(respuesta)\n",
    "\n",
    "except Exception as e:\n",
    "    print(\"❌ Hubo un error al consultar la API de OpenAI:\")\n",
    "    print(e)\n",
    "\n"
   ]
  },
  {
   "cell_type": "markdown",
   "id": "8dbda322-859a-4154-9d3d-3af8607f163e",
   "metadata": {},
   "source": [
    "## Visualización generada con IA (DALL·E)\n",
    "\n",
    "Para complementar la propuesta generada por el prompt de texto, se utilizó **DALL·E** para crear una imagen representativa del kit sugerido para la intención de *relajación*.\n",
    "\n",
    "**Prompt utilizado para generar la imagen:**\n",
    "> \"Un escenario acogedor y natural con una vela de soja blanca, un atado de sahumerio de lavanda y una taza de cerámica con infusión de manzanilla, todo dispuesto sobre una mesa rústica de madera. La luz natural es suave y cálida. La atmósfera transmite calma, armonía y relajación.\"\n",
    "\n",
    "**Propósito de la imagen:**\n",
    "Esta imagen tiene como objetivo representar visualmente la combinación de productos naturales sugerida por la IA para potenciar la intención de relajación. Sirve como material visual complementario para redes sociales, e-commerce o presentaciones.\n",
    "\n",
    "**[Ver imagen generada con DALL·E](ChatGPT Image 10 jun 2025, 19_15_35.png)**  "
   ]
  },
  {
   "cell_type": "code",
   "execution_count": null,
   "id": "a48ac0dd-6069-4369-9ceb-d113911e19bc",
   "metadata": {},
   "outputs": [],
   "source": []
  }
 ],
 "metadata": {
  "kernelspec": {
   "display_name": "Python 3 (ipykernel)",
   "language": "python",
   "name": "python3"
  },
  "language_info": {
   "codemirror_mode": {
    "name": "ipython",
    "version": 3
   },
   "file_extension": ".py",
   "mimetype": "text/x-python",
   "name": "python",
   "nbconvert_exporter": "python",
   "pygments_lexer": "ipython3",
   "version": "3.12.7"
  }
 },
 "nbformat": 4,
 "nbformat_minor": 5
}
