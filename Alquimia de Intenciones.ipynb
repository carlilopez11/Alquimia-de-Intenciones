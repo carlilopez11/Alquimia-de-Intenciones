{
 "cells": [
  {
   "cell_type": "markdown",
   "id": "fb3d2766-4536-4bf6-ad72-1dc5d6cd6cf0",
   "metadata": {},
   "source": [
    "# Alquimia de Intenciones – Fast Prompting con IA\n",
    "\n",
    "Este notebook presenta una prueba de concepto (POC) donde se usan técnicas de Fast Prompting para sugerir combinaciones de productos naturales segun intenciones energeticas.\n"
   ]
  },
  {
   "cell_type": "code",
   "execution_count": 5,
   "id": "be35d0e5-1d6b-4b1d-a0a9-9eac13f28584",
   "metadata": {},
   "outputs": [],
   "source": [
    "# Definir intención del usuario\n",
    "intencion = \"relajación\"\n"
   ]
  },
  {
   "cell_type": "code",
   "execution_count": 7,
   "id": "3cd97ac6-e91f-4346-bd9e-1cdf60d17966",
   "metadata": {},
   "outputs": [
    {
     "name": "stdout",
     "output_type": "stream",
     "text": [
      "\n",
      "Sugerime un combo de productos naturales para relajación. \n",
      "Incluí un sahumerio, una infusión y una vela de soja. \n",
      "Explicá por qué se elige cada uno en función de la intención.\n",
      "\n"
     ]
    }
   ],
   "source": [
    "# Prompt generado con Fast Prompting\n",
    "prompt = f\"\"\"\n",
    "Sugerime un combo de productos naturales para {intencion}. \n",
    "Incluí un sahumerio, una infusión y una vela de soja. \n",
    "Explicá por qué se elige cada uno en función de la intención.\n",
    "\"\"\"\n",
    "\n",
    "print(prompt)\n"
   ]
  },
  {
   "cell_type": "code",
   "execution_count": 9,
   "id": "d2e0be22-d409-4354-9eca-f0ec3deaf38b",
   "metadata": {},
   "outputs": [
    {
     "name": "stdout",
     "output_type": "stream",
     "text": [
      "\n",
      "Combo para relajación:\n",
      "- Sahumerio: Lavanda – aroma suave que calma el sistema nervioso.\n",
      "- Infusión: Manzanilla – ayuda a relajar el cuerpo y la mente.\n",
      "- Vela: Vainilla – aroma cálido que induce tranquilidad.\n",
      "\n"
     ]
    }
   ],
   "source": [
    "# Resultado simulado de IA (output de ChatGPT)\n",
    "respuesta = \"\"\"\n",
    "Combo para relajación:\n",
    "- Sahumerio: Lavanda – aroma suave que calma el sistema nervioso.\n",
    "- Infusión: Manzanilla – ayuda a relajar el cuerpo y la mente.\n",
    "- Vela: Vainilla – aroma cálido que induce tranquilidad.\n",
    "\"\"\"\n",
    "\n",
    "print(respuesta)\n"
   ]
  },
  {
   "cell_type": "markdown",
   "id": "8dbda322-859a-4154-9d3d-3af8607f163e",
   "metadata": {},
   "source": [
    "## Visualización generada con IA (DALL·E)\n",
    "\n",
    "Para complementar la propuesta generada por el prompt de texto, se utilizó **DALL·E** para crear una imagen representativa del kit sugerido para la intención de *relajación*.\n",
    "\n",
    "**Prompt utilizado para generar la imagen:**\n",
    "> \"Un escenario acogedor y natural con una vela de soja blanca, un atado de sahumerio de lavanda y una taza de cerámica con infusión de manzanilla, todo dispuesto sobre una mesa rústica de madera. La luz natural es suave y cálida. La atmósfera transmite calma, armonía y relajación.\"\n",
    "\n",
    "**Propósito de la imagen:**\n",
    "Esta imagen tiene como objetivo representar visualmente la combinación de productos naturales sugerida por la IA para potenciar la intención de relajación. Sirve como material visual complementario para redes sociales, e-commerce o presentaciones.\n",
    "\n",
    "**[Ver imagen generada con DALL·E](ChatGPT Image 10 jun 2025, 19_15_35.png)**  "
   ]
  },
  {
   "cell_type": "code",
   "execution_count": null,
   "id": "a48ac0dd-6069-4369-9ceb-d113911e19bc",
   "metadata": {},
   "outputs": [],
   "source": []
  }
 ],
 "metadata": {
  "kernelspec": {
   "display_name": "Python 3 (ipykernel)",
   "language": "python",
   "name": "python3"
  },
  "language_info": {
   "codemirror_mode": {
    "name": "ipython",
    "version": 3
   },
   "file_extension": ".py",
   "mimetype": "text/x-python",
   "name": "python",
   "nbconvert_exporter": "python",
   "pygments_lexer": "ipython3",
   "version": "3.12.7"
  }
 },
 "nbformat": 4,
 "nbformat_minor": 5
}
